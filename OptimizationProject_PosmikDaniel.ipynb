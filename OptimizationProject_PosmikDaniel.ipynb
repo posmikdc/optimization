{
 "cells": [
  {
   "cell_type": "code",
   "execution_count": 1,
   "metadata": {},
   "outputs": [
    {
     "name": "stdout",
     "output_type": "stream",
     "text": [
      "Requirement already satisfied: ortools in c:\\users\\dposm\\anaconda3\\lib\\site-packages (9.3.10497)\n",
      "Requirement already satisfied: numpy>=1.13.3 in c:\\users\\dposm\\anaconda3\\lib\\site-packages (from ortools) (1.19.2)\n",
      "Requirement already satisfied: protobuf>=3.19.4 in c:\\users\\dposm\\anaconda3\\lib\\site-packages (from ortools) (3.19.4)\n",
      "Requirement already satisfied: absl-py>=0.13 in c:\\users\\dposm\\anaconda3\\lib\\site-packages (from ortools) (1.0.0)\n",
      "Requirement already satisfied: six in c:\\users\\dposm\\anaconda3\\lib\\site-packages (from absl-py>=0.13->ortools) (1.15.0)\n"
     ]
    }
   ],
   "source": [
    "# import Glop package\n",
    "!pip install ortools\n",
    "from ortools.linear_solver import pywraplp as glp\n",
    "from ortools.constraint_solver import pywrapcp as gcp\n",
    "from ortools.constraint_solver import routing_enums_pb2\n",
    "\n",
    "#from ortools.linear_solver import pywraplp as glp \n",
    "\n",
    "#Create IP model object\n",
    "model = glp.Solver('Set Covering Problem', glp.Solver.CBC_MIXED_INTEGER_PROGRAMMING)"
   ]
  },
  {
   "cell_type": "code",
   "execution_count": 2,
   "metadata": {},
   "outputs": [
    {
     "name": "stdout",
     "output_type": "stream",
     "text": [
      "Requirement already satisfied: numpy in c:\\users\\dposm\\anaconda3\\lib\\site-packages (1.19.2)\n"
     ]
    }
   ],
   "source": [
    "!pip install numpy\n",
    "import numpy as np"
   ]
  },
  {
   "cell_type": "code",
   "execution_count": 3,
   "metadata": {},
   "outputs": [
    {
     "data": {
      "text/plain": [
       "'1.19.2'"
      ]
     },
     "execution_count": 3,
     "metadata": {},
     "output_type": "execute_result"
    }
   ],
   "source": [
    "np.__version__"
   ]
  },
  {
   "cell_type": "markdown",
   "metadata": {},
   "source": [
    "The below are costs for traveling between locations using a bus and plane respectively. For simiplicity and a cleaner chunk of code, we calculated cost per route using distance and cost per mile in Excel"
   ]
  },
  {
   "cell_type": "code",
   "execution_count": 4,
   "metadata": {},
   "outputs": [
    {
     "data": {
      "text/plain": [
       "[[0, 459, 329, 331, 333, 409, 393, 442, 489, 488, 241],\n",
       " [459, 0, 409, 329, 322, 230, 254, 176, 180, 179, 534],\n",
       " [329, 409, 0, 230, 254, 329, 312, 384, 438, 437, 409],\n",
       " [331, 329, 230, 0, 176, 250, 234, 305, 359, 358, 421],\n",
       " [333, 322, 254, 176, 0, 243, 226, 298, 352, 351, 445],\n",
       " [409, 230, 329, 250, 243, 0, 176, 206, 261, 260, 492],\n",
       " [393, 254, 312, 234, 226, 176, 0, 230, 285, 283, 475],\n",
       " [442, 176, 384, 305, 298, 206, 230, 0, 206, 204, 522],\n",
       " [489, 180, 438, 359, 352, 261, 285, 206, 0, 153, 569],\n",
       " [488, 179, 437, 358, 351, 260, 283, 204, 153, 0, 567],\n",
       " [241, 534, 409, 421, 445, 492, 475, 522, 569, 568, 0]]"
      ]
     },
     "execution_count": 4,
     "metadata": {},
     "output_type": "execute_result"
    }
   ],
   "source": [
    "busdata=[[0, 493, 286, 289, 291, 413, 388, 465, 541, 538, 145],\n",
    "        [499, 0, 417, 290, 278, 130, 169, 42, 48, 46, 619],\n",
    "        [315, 454, 0, 141, 183, 314, 285, 411, 507, 504, 455],\n",
    "        [310, 307, 138, 0, 44, 171, 143, 265, 358, 355, 463],\n",
    "        [312, 294, 178, 44, 0, 158, 130, 252, 346, 343, 504],\n",
    "        [411, 127, 284, 158, 147, 0, 40, 89, 176, 175, 542],\n",
    "        [377, 162, 251, 130, 118, 39, 0, 124, 208, 206, 503],\n",
    "        [396, 35, 317, 210, 200, 77, 108, 0, 76, 74, 504],\n",
    "        [542, 48, 461, 335, 324, 178, 216, 89, 0, 5, 671],\n",
    "        [538, 45, 458, 332, 320, 176, 212, 87, 5, 0, 666],\n",
    "        [163, 685, 462, 484, 527, 611, 581, 664, 749, 746, 0]]\n",
    "\n",
    "\n",
    "planedata=[[0, 459, 329, 331, 333, 409, 393, 442, 489, 488, 241],\n",
    "          [459, 0, 409, 329, 322, 230, 254, 176, 180, 179, 534], \n",
    "          [329, 409, 0, 230, 254, 329, 312, 384, 438, 437, 409], \n",
    "          [331, 329, 230, 0, 176, 250, 234, 305, 359, 358, 421], \n",
    "          [333, 322, 254, 176, 0, 243, 226, 298, 352, 351, 445], \n",
    "          [409, 230, 329, 250, 243, 0, 176, 206, 261, 260, 492], \n",
    "          [393, 254, 312, 234, 226, 176, 0, 230, 285, 283, 475], \n",
    "          [442, 176, 384, 305, 298, 206, 230, 0, 206, 204, 522], \n",
    "          [489, 180, 438, 359, 352, 261, 285, 206, 0, 153, 569],\n",
    "          [488, 179, 437, 358, 351, 260, 283, 204, 153, 0, 567],\n",
    "          [241, 534, 409, 421, 445, 492, 475, 522, 569, 568, 0]]\n",
    "\n",
    "\n",
    "busdata\n",
    "planedata\n"
   ]
  },
  {
   "cell_type": "markdown",
   "metadata": {},
   "source": [
    "The optimal route is going to be one with the lowest cost. In order to find the optimal option for travel between each university, we need to find the lowest cost for each leg of the journey between both methods. We created a new minimum cost matrix below to achieve that"
   ]
  },
  {
   "cell_type": "code",
   "execution_count": 5,
   "metadata": {},
   "outputs": [
    {
     "name": "stdout",
     "output_type": "stream",
     "text": [
      "[[  0 459 286 289 291 409 388 442 489 488 145]\n",
      " [459   0 409 290 278 130 169  42  48  46 534]\n",
      " [315 409   0 141 183 314 285 384 438 437 409]\n",
      " [310 307 138   0  44 171 143 265 358 355 421]\n",
      " [312 294 178  44   0 158 130 252 346 343 445]\n",
      " [409 127 284 158 147   0  40  89 176 175 492]\n",
      " [377 162 251 130 118  39   0 124 208 206 475]\n",
      " [396  35 317 210 200  77 108   0  76  74 504]\n",
      " [489  48 438 335 324 178 216  89   0   5 569]\n",
      " [488  45 437 332 320 176 212  87   5   0 567]\n",
      " [163 534 409 421 445 492 475 522 569 568   0]]\n"
     ]
    }
   ],
   "source": [
    "temp1=np.less_equal(busdata,planedata)\n",
    "temp2=np.less(planedata,busdata)\n",
    "C1=np.multiply(busdata,temp1)\n",
    "C2=np.multiply(planedata,temp2)\n",
    "C=C1+C2\n",
    "print(C)"
   ]
  },
  {
   "cell_type": "code",
   "execution_count": 6,
   "metadata": {},
   "outputs": [
    {
     "data": {
      "text/plain": [
       "numpy.ndarray"
      ]
     },
     "execution_count": 6,
     "metadata": {},
     "output_type": "execute_result"
    }
   ],
   "source": [
    "type(C)"
   ]
  },
  {
   "cell_type": "code",
   "execution_count": 7,
   "metadata": {},
   "outputs": [],
   "source": [
    "AC= C.tolist()"
   ]
  },
  {
   "cell_type": "code",
   "execution_count": 8,
   "metadata": {},
   "outputs": [
    {
     "data": {
      "text/plain": [
       "[[0, 459, 286, 289, 291, 409, 388, 442, 489, 488, 145],\n",
       " [459, 0, 409, 290, 278, 130, 169, 42, 48, 46, 534],\n",
       " [315, 409, 0, 141, 183, 314, 285, 384, 438, 437, 409],\n",
       " [310, 307, 138, 0, 44, 171, 143, 265, 358, 355, 421],\n",
       " [312, 294, 178, 44, 0, 158, 130, 252, 346, 343, 445],\n",
       " [409, 127, 284, 158, 147, 0, 40, 89, 176, 175, 492],\n",
       " [377, 162, 251, 130, 118, 39, 0, 124, 208, 206, 475],\n",
       " [396, 35, 317, 210, 200, 77, 108, 0, 76, 74, 504],\n",
       " [489, 48, 438, 335, 324, 178, 216, 89, 0, 5, 569],\n",
       " [488, 45, 437, 332, 320, 176, 212, 87, 5, 0, 567],\n",
       " [163, 534, 409, 421, 445, 492, 475, 522, 569, 568, 0]]"
      ]
     },
     "execution_count": 8,
     "metadata": {},
     "output_type": "execute_result"
    }
   ],
   "source": [
    "AC"
   ]
  },
  {
   "cell_type": "markdown",
   "metadata": {},
   "source": [
    "Due to compatibility issues between the Numpy data array and Google's OR Tools package, we converted the numpy array into a list to allow it to be called into our data model and create an automated model."
   ]
  },
  {
   "cell_type": "code",
   "execution_count": 9,
   "metadata": {},
   "outputs": [
    {
     "data": {
      "text/plain": [
       "{'cost_matrix': [[0, 459, 286, 289, 291, 409, 388, 442, 489, 488, 145],\n",
       "  [459, 0, 409, 290, 278, 130, 169, 42, 48, 46, 534],\n",
       "  [315, 409, 0, 141, 183, 314, 285, 384, 438, 437, 409],\n",
       "  [310, 307, 138, 0, 44, 171, 143, 265, 358, 355, 421],\n",
       "  [312, 294, 178, 44, 0, 158, 130, 252, 346, 343, 445],\n",
       "  [409, 127, 284, 158, 147, 0, 40, 89, 176, 175, 492],\n",
       "  [377, 162, 251, 130, 118, 39, 0, 124, 208, 206, 475],\n",
       "  [396, 35, 317, 210, 200, 77, 108, 0, 76, 74, 504],\n",
       "  [489, 48, 438, 335, 324, 178, 216, 89, 0, 5, 569],\n",
       "  [488, 45, 437, 332, 320, 176, 212, 87, 5, 0, 567],\n",
       "  [163, 534, 409, 421, 445, 492, 475, 522, 569, 568, 0]],\n",
       " 'num_vehicles': 1,\n",
       " 'depot': 0}"
      ]
     },
     "execution_count": 9,
     "metadata": {},
     "output_type": "execute_result"
    }
   ],
   "source": [
    "def create_data_model():\n",
    "    \"\"\"Stores the data for the problem.\"\"\"\n",
    "    data = {}\n",
    "    data['cost_matrix'] = AC   \n",
    "    data['num_vehicles'] = 1\n",
    "    data['depot'] = 0\n",
    "    return data\n",
    "\n",
    "data = create_data_model()\n",
    "data"
   ]
  },
  {
   "cell_type": "code",
   "execution_count": 10,
   "metadata": {},
   "outputs": [],
   "source": [
    "data = create_data_model()\n",
    "manager = gcp.RoutingIndexManager(len(data['cost_matrix']),data['num_vehicles'], data['depot'])\n",
    "routing = gcp.RoutingModel(manager)"
   ]
  },
  {
   "cell_type": "code",
   "execution_count": 11,
   "metadata": {},
   "outputs": [],
   "source": [
    "def cost_callback(from_index, to_index):\n",
    "    \"\"\"Returns the distance between the two nodes.\"\"\"\n",
    "    # Convert from routing variable Index to distance matrix NodeIndex.\n",
    "    from_node = manager.IndexToNode(from_index)\n",
    "    to_node = manager.IndexToNode(to_index)\n",
    "    return data['cost_matrix'][from_node][to_node]\n",
    "\n",
    "transit_callback_index = routing.RegisterTransitCallback(cost_callback)"
   ]
  },
  {
   "cell_type": "code",
   "execution_count": 12,
   "metadata": {},
   "outputs": [],
   "source": [
    "routing.SetArcCostEvaluatorOfAllVehicles(transit_callback_index)"
   ]
  },
  {
   "cell_type": "code",
   "execution_count": 13,
   "metadata": {},
   "outputs": [],
   "source": [
    "search_parameters = gcp.DefaultRoutingSearchParameters()\n",
    "search_parameters.first_solution_strategy = (\n",
    "    routing_enums_pb2.FirstSolutionStrategy.PATH_CHEAPEST_ARC)"
   ]
  },
  {
   "cell_type": "code",
   "execution_count": 14,
   "metadata": {},
   "outputs": [],
   "source": [
    "def print_solution(manager, routing, solution):\n",
    "    \"\"\"Prints solution on console.\"\"\"\n",
    "    print('Lowest Cost: ${}'.format(solution.ObjectiveValue()))\n",
    "    index = routing.Start(0)\n",
    "    plan_output = 'The best route for the University of Cincinnati to travel in the Big 12 is:\\n'\n",
    "    route_cost = 0\n",
    "    while not routing.IsEnd(index):\n",
    "        plan_output += ' {} ->'.format(manager.IndexToNode(index))\n",
    "        previous_index = index\n",
    "        index = solution.Value(routing.NextVar(index))\n",
    "        route_cost += routing.GetArcCostForVehicle(previous_index, index, 0)\n",
    "    plan_output += ' {}\\n'.format(manager.IndexToNode(index))\n",
    "    print(plan_output)\n",
    "    plan_output += 'Route cost: $ {}\\n'.format(route_cost)"
   ]
  },
  {
   "cell_type": "code",
   "execution_count": 17,
   "metadata": {
    "scrolled": true
   },
   "outputs": [
    {
     "name": "stdout",
     "output_type": "stream",
     "text": [
      "Lowest Cost: $1538\n",
      "The best route for the University of Cincinnati to travel in the Big 12 is:\n",
      " 0 -> 10 -> 8 -> 9 -> 1 -> 7 -> 5 -> 6 -> 4 -> 3 -> 2 -> 0\n",
      "\n"
     ]
    }
   ],
   "source": [
    "solution = routing.SolveWithParameters(search_parameters)\n",
    "if solution:\n",
    "    print_solution(manager, routing, solution)"
   ]
  },
  {
   "cell_type": "code",
   "execution_count": 16,
   "metadata": {},
   "outputs": [],
   "source": [
    "#0 -bus> 10 -plane> 8 -bus> 9 -bus> 1 -bus> 7 -bus> 5 -bus> 6 -bus> 4 -bus> 3 -bus> 2 -bus> 0\n",
    "#0 -145> 10 -569> 8 -5> 9 -45> 1 -42> 7 -77> 5 -40> 6 -118> 4 -44> 3 -137> 2 -315> 0"
   ]
  },
  {
   "cell_type": "markdown",
   "metadata": {},
   "source": []
  }
 ],
 "metadata": {
  "kernelspec": {
   "display_name": "Python 3",
   "language": "python",
   "name": "python3"
  },
  "language_info": {
   "codemirror_mode": {
    "name": "ipython",
    "version": 3
   },
   "file_extension": ".py",
   "mimetype": "text/x-python",
   "name": "python",
   "nbconvert_exporter": "python",
   "pygments_lexer": "ipython3",
   "version": "3.8.5"
  }
 },
 "nbformat": 4,
 "nbformat_minor": 5
}
